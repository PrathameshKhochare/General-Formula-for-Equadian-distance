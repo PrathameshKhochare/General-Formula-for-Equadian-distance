{
 "cells": [
  {
   "cell_type": "code",
   "execution_count": 1,
   "id": "53438523",
   "metadata": {},
   "outputs": [],
   "source": [
    "import numpy as np"
   ]
  },
  {
   "cell_type": "code",
   "execution_count": 2,
   "id": "86ed381f",
   "metadata": {},
   "outputs": [],
   "source": [
    "a = np.array([1,2])\n",
    "b = np.array([4,5])    # sqrt[ (4-1) + (5-2)] = 4.24"
   ]
  },
  {
   "cell_type": "markdown",
   "id": "d9757df1",
   "metadata": {},
   "source": [
    "### General formula to calculate Equalidian Distance"
   ]
  },
  {
   "cell_type": "code",
   "execution_count": 4,
   "id": "3a03b853",
   "metadata": {},
   "outputs": [
    {
     "data": {
      "text/plain": [
       "4.242640687119285"
      ]
     },
     "execution_count": 4,
     "metadata": {},
     "output_type": "execute_result"
    }
   ],
   "source": [
    "np.sqrt(np.dot(b-a,b-a))"
   ]
  },
  {
   "cell_type": "code",
   "execution_count": 6,
   "id": "b6709ad9",
   "metadata": {},
   "outputs": [],
   "source": [
    "a = np.array([1,2,3])\n",
    "b = np.array([4,5,6])    # sqrt[ (4-1) + (5-2) + (6-3) ]  = 5.19"
   ]
  },
  {
   "cell_type": "code",
   "execution_count": 7,
   "id": "c78b2bb6",
   "metadata": {},
   "outputs": [
    {
     "data": {
      "text/plain": [
       "5.196152422706632"
      ]
     },
     "execution_count": 7,
     "metadata": {},
     "output_type": "execute_result"
    }
   ],
   "source": [
    "np.sqrt(np.dot(b-a,b-a))"
   ]
  },
  {
   "cell_type": "code",
   "execution_count": null,
   "id": "6cd6e389",
   "metadata": {},
   "outputs": [],
   "source": []
  }
 ],
 "metadata": {
  "kernelspec": {
   "display_name": "Python 3 (ipykernel)",
   "language": "python",
   "name": "python3"
  },
  "language_info": {
   "codemirror_mode": {
    "name": "ipython",
    "version": 3
   },
   "file_extension": ".py",
   "mimetype": "text/x-python",
   "name": "python",
   "nbconvert_exporter": "python",
   "pygments_lexer": "ipython3",
   "version": "3.10.9"
  }
 },
 "nbformat": 4,
 "nbformat_minor": 5
}
